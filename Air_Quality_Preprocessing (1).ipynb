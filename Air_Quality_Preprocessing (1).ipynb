{
 "cells": [
  {
   "cell_type": "code",
   "execution_count": 2,
   "id": "20399689-672e-4244-b039-2fb362ce10ad",
   "metadata": {},
   "outputs": [],
   "source": [
    "# Import Libraries\n",
    "import pandas as pd\n",
    "import numpy as np"
   ]
  },
  {
   "cell_type": "code",
   "execution_count": 4,
   "id": "69378178-e6be-47da-921f-8be7cdb57794",
   "metadata": {},
   "outputs": [],
   "source": [
    "# Load Data\n",
    "city_day = pd.read_csv('city_day.csv')\n",
    "station_day = pd.read_csv('station_day.csv')"
   ]
  },
  {
   "cell_type": "code",
   "execution_count": 6,
   "id": "b871300e-bfd9-42f6-beff-08f66b56b3c9",
   "metadata": {},
   "outputs": [],
   "source": [
    "# Handle Missing Values\n",
    "pollutants = ['PM2.5', 'PM10', 'NO', 'NO2', 'NOx', 'NH3', \n",
    "              'CO', 'SO2', 'O3', 'Benzene', 'Toluene', 'Xylene']\n",
    "\n",
    "for col in pollutants:\n",
    "    city_day[col] = city_day[col].fillna(city_day[col].mean())\n",
    "    station_day[col] = station_day[col].fillna(station_day[col].mean())\n",
    "\n",
    "city_day['AQI'] = city_day['AQI'].interpolate()\n",
    "station_day['AQI'] = station_day['AQI'].interpolate()"
   ]
  },
  {
   "cell_type": "code",
   "execution_count": 8,
   "id": "40ef281f-d931-4b49-86fe-d606acd525f2",
   "metadata": {},
   "outputs": [],
   "source": [
    "# Date Conversion\n",
    "city_day['Date'] = pd.to_datetime(city_day['Date'])\n",
    "station_day['Date'] = pd.to_datetime(station_day['Date'])"
   ]
  },
  {
   "cell_type": "code",
   "execution_count": 10,
   "id": "86b81043-fff4-403c-8bc6-b779d61817c3",
   "metadata": {},
   "outputs": [],
   "source": [
    "# Feature Engineering\n",
    "def assign_season(month):\n",
    "    if month in [3,4,5]:\n",
    "        return 'Summer'\n",
    "    elif month in [6,7,8]:\n",
    "        return 'Monsoon'\n",
    "    elif month in [9,10,11]:\n",
    "        return 'Autumn'\n",
    "    else:\n",
    "        return 'Winter'\n",
    "\n",
    "for df in [city_day, station_day]:\n",
    "    df['Year'] = df['Date'].dt.year\n",
    "    df['Month'] = df['Date'].dt.month\n",
    "    df['Day'] = df['Date'].dt.day\n",
    "    df['DayofWeek'] = df['Date'].dt.dayofweek\n",
    "    df['Quarter'] = df['Date'].dt.quarter\n",
    "    df['Avg_Pollutant'] = df[pollutants].mean(axis=1)\n",
    "    df['Season'] = df['Month'].apply(assign_season)"
   ]
  },
  {
   "cell_type": "code",
   "execution_count": 12,
   "id": "50150c7b-b5b3-4612-8ff6-14495392eb56",
   "metadata": {},
   "outputs": [],
   "source": [
    "# Encode Categorical Variables\n",
    "city_day = pd.get_dummies(city_day, columns=['City', 'Season'], drop_first=True)\n",
    "station_day = pd.get_dummies(station_day, columns=['StationId', 'Season'], drop_first=True)"
   ]
  },
  {
   "cell_type": "code",
   "execution_count": 14,
   "id": "1e0e94cc-32de-40f3-b288-a20ad6a6a08a",
   "metadata": {},
   "outputs": [
    {
     "name": "stdout",
     "output_type": "stream",
     "text": [
      " Preprocessing complete. Preprocessed CSV files saved.\n"
     ]
    }
   ],
   "source": [
    "# Save Preprocessed Files\n",
    "city_day.to_csv('preprocessed_city_day.csv', index=False)\n",
    "station_day.to_csv('preprocessed_station_day.csv', index=False)\n",
    "\n",
    "print(\" Preprocessing complete. Preprocessed CSV files saved.\")"
   ]
  },
  {
   "cell_type": "code",
   "execution_count": null,
   "id": "1a72443c-ef4e-470c-b871-a3963da9f521",
   "metadata": {},
   "outputs": [],
   "source": []
  }
 ],
 "metadata": {
  "kernelspec": {
   "display_name": "Python [conda env:base] *",
   "language": "python",
   "name": "conda-base-py"
  },
  "language_info": {
   "codemirror_mode": {
    "name": "ipython",
    "version": 3
   },
   "file_extension": ".py",
   "mimetype": "text/x-python",
   "name": "python",
   "nbconvert_exporter": "python",
   "pygments_lexer": "ipython3",
   "version": "3.12.7"
  }
 },
 "nbformat": 4,
 "nbformat_minor": 5
}
